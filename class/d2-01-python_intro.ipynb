{
 "cells": [
  {
   "cell_type": "markdown",
   "metadata": {
    "toc": "true"
   },
   "source": [
    "# Table of Contents\n",
    " <p>"
   ]
  },
  {
   "cell_type": "code",
   "execution_count": 1,
   "metadata": {
    "ExecuteTime": {
     "end_time": "2017-10-27T13:14:53.741504Z",
     "start_time": "2017-10-27T13:14:53.715743Z"
    }
   },
   "outputs": [
    {
     "data": {
      "text/plain": [
       "3"
      ]
     },
     "execution_count": 1,
     "metadata": {},
     "output_type": "execute_result"
    }
   ],
   "source": [
    "3"
   ]
  },
  {
   "cell_type": "code",
   "execution_count": 2,
   "metadata": {
    "ExecuteTime": {
     "end_time": "2017-10-27T13:14:56.529693Z",
     "start_time": "2017-10-27T13:14:56.521600Z"
    }
   },
   "outputs": [
    {
     "data": {
      "text/plain": [
       "int"
      ]
     },
     "execution_count": 2,
     "metadata": {},
     "output_type": "execute_result"
    }
   ],
   "source": [
    "type(3)"
   ]
  },
  {
   "cell_type": "code",
   "execution_count": 4,
   "metadata": {
    "ExecuteTime": {
     "end_time": "2017-10-27T13:15:22.083406Z",
     "start_time": "2017-10-27T13:15:22.077637Z"
    }
   },
   "outputs": [
    {
     "data": {
      "text/plain": [
       "3"
      ]
     },
     "execution_count": 4,
     "metadata": {},
     "output_type": "execute_result"
    }
   ],
   "source": [
    "int(3.14)"
   ]
  },
  {
   "cell_type": "code",
   "execution_count": 5,
   "metadata": {
    "ExecuteTime": {
     "end_time": "2017-10-27T13:15:34.541416Z",
     "start_time": "2017-10-27T13:15:34.535952Z"
    }
   },
   "outputs": [
    {
     "data": {
      "text/plain": [
       "3.0"
      ]
     },
     "execution_count": 5,
     "metadata": {},
     "output_type": "execute_result"
    }
   ],
   "source": [
    "float(3)"
   ]
  },
  {
   "cell_type": "code",
   "execution_count": 6,
   "metadata": {
    "ExecuteTime": {
     "end_time": "2017-10-27T13:15:40.257419Z",
     "start_time": "2017-10-27T13:15:40.252313Z"
    }
   },
   "outputs": [
    {
     "data": {
      "text/plain": [
       "'strings'"
      ]
     },
     "execution_count": 6,
     "metadata": {},
     "output_type": "execute_result"
    }
   ],
   "source": [
    "'strings'"
   ]
  },
  {
   "cell_type": "code",
   "execution_count": 7,
   "metadata": {
    "ExecuteTime": {
     "end_time": "2017-10-27T13:15:45.811880Z",
     "start_time": "2017-10-27T13:15:45.804342Z"
    }
   },
   "outputs": [
    {
     "data": {
      "text/plain": [
       "True"
      ]
     },
     "execution_count": 7,
     "metadata": {},
     "output_type": "execute_result"
    }
   ],
   "source": [
    "True"
   ]
  },
  {
   "cell_type": "code",
   "execution_count": 8,
   "metadata": {
    "ExecuteTime": {
     "end_time": "2017-10-27T13:15:47.627602Z",
     "start_time": "2017-10-27T13:15:47.619923Z"
    }
   },
   "outputs": [
    {
     "data": {
      "text/plain": [
       "False"
      ]
     },
     "execution_count": 8,
     "metadata": {},
     "output_type": "execute_result"
    }
   ],
   "source": [
    "False"
   ]
  },
  {
   "cell_type": "code",
   "execution_count": 9,
   "metadata": {
    "ExecuteTime": {
     "end_time": "2017-10-27T13:16:33.788555Z",
     "start_time": "2017-10-27T13:16:33.783065Z"
    }
   },
   "outputs": [
    {
     "data": {
      "text/plain": [
       "'string'"
      ]
     },
     "execution_count": 9,
     "metadata": {},
     "output_type": "execute_result"
    }
   ],
   "source": [
    "\"string\""
   ]
  },
  {
   "cell_type": "code",
   "execution_count": 10,
   "metadata": {
    "ExecuteTime": {
     "end_time": "2017-10-27T13:16:36.431621Z",
     "start_time": "2017-10-27T13:16:36.418313Z"
    }
   },
   "outputs": [
    {
     "data": {
      "text/plain": [
       "'string'"
      ]
     },
     "execution_count": 10,
     "metadata": {},
     "output_type": "execute_result"
    }
   ],
   "source": [
    "'string'"
   ]
  },
  {
   "cell_type": "code",
   "execution_count": 11,
   "metadata": {
    "ExecuteTime": {
     "end_time": "2017-10-27T13:16:50.803814Z",
     "start_time": "2017-10-27T13:16:50.787956Z"
    }
   },
   "outputs": [
    {
     "data": {
      "text/plain": [
       "\"it's here\""
      ]
     },
     "execution_count": 11,
     "metadata": {},
     "output_type": "execute_result"
    }
   ],
   "source": [
    "\"it's here\""
   ]
  },
  {
   "cell_type": "code",
   "execution_count": 13,
   "metadata": {
    "ExecuteTime": {
     "end_time": "2017-10-27T13:18:18.296000Z",
     "start_time": "2017-10-27T13:18:18.289596Z"
    }
   },
   "outputs": [
    {
     "data": {
      "text/plain": [
       "'helloworld'"
      ]
     },
     "execution_count": 13,
     "metadata": {},
     "output_type": "execute_result"
    }
   ],
   "source": [
    "\"hello\" + \"world\""
   ]
  },
  {
   "cell_type": "code",
   "execution_count": 14,
   "metadata": {
    "ExecuteTime": {
     "end_time": "2017-10-27T13:18:26.214171Z",
     "start_time": "2017-10-27T13:18:26.207935Z"
    }
   },
   "outputs": [
    {
     "data": {
      "text/plain": [
       "'helloworld'"
      ]
     },
     "execution_count": 14,
     "metadata": {},
     "output_type": "execute_result"
    }
   ],
   "source": [
    "\"hello\"\"world\""
   ]
  },
  {
   "cell_type": "code",
   "execution_count": 15,
   "metadata": {
    "ExecuteTime": {
     "end_time": "2017-10-27T13:20:00.039261Z",
     "start_time": "2017-10-27T13:20:00.034950Z"
    },
    "collapsed": true
   },
   "outputs": [],
   "source": [
    "my_list = ['a', 1, True, 3.14]"
   ]
  },
  {
   "cell_type": "code",
   "execution_count": 16,
   "metadata": {
    "ExecuteTime": {
     "end_time": "2017-10-27T13:20:02.126266Z",
     "start_time": "2017-10-27T13:20:02.110822Z"
    }
   },
   "outputs": [
    {
     "data": {
      "text/plain": [
       "['a', 1, True, 3.14]"
      ]
     },
     "execution_count": 16,
     "metadata": {},
     "output_type": "execute_result"
    }
   ],
   "source": [
    "my_list"
   ]
  },
  {
   "cell_type": "code",
   "execution_count": 17,
   "metadata": {
    "ExecuteTime": {
     "end_time": "2017-10-27T13:21:12.471050Z",
     "start_time": "2017-10-27T13:21:12.465898Z"
    }
   },
   "outputs": [
    {
     "data": {
      "text/plain": [
       "'a'"
      ]
     },
     "execution_count": 17,
     "metadata": {},
     "output_type": "execute_result"
    }
   ],
   "source": [
    "my_list[0]"
   ]
  },
  {
   "cell_type": "code",
   "execution_count": 19,
   "metadata": {
    "ExecuteTime": {
     "end_time": "2017-10-27T13:21:50.274172Z",
     "start_time": "2017-10-27T13:21:50.265850Z"
    }
   },
   "outputs": [
    {
     "data": {
      "text/plain": [
       "['a', 1, True]"
      ]
     },
     "execution_count": 19,
     "metadata": {},
     "output_type": "execute_result"
    }
   ],
   "source": [
    "my_list[0:3]"
   ]
  },
  {
   "cell_type": "code",
   "execution_count": 21,
   "metadata": {
    "ExecuteTime": {
     "end_time": "2017-10-27T13:25:13.398260Z",
     "start_time": "2017-10-27T13:25:13.391830Z"
    }
   },
   "outputs": [],
   "source": [
    "my_list[0] = 'zzzz'"
   ]
  },
  {
   "cell_type": "code",
   "execution_count": 22,
   "metadata": {
    "ExecuteTime": {
     "end_time": "2017-10-27T13:25:15.793956Z",
     "start_time": "2017-10-27T13:25:15.781733Z"
    }
   },
   "outputs": [
    {
     "data": {
      "text/plain": [
       "['zzzz', 1, True, 3.14]"
      ]
     },
     "execution_count": 22,
     "metadata": {},
     "output_type": "execute_result"
    }
   ],
   "source": [
    "my_list"
   ]
  },
  {
   "cell_type": "code",
   "execution_count": 23,
   "metadata": {
    "ExecuteTime": {
     "end_time": "2017-10-27T13:25:36.481963Z",
     "start_time": "2017-10-27T13:25:36.478769Z"
    },
    "collapsed": true
   },
   "outputs": [],
   "source": [
    "my_list.append('new appended value')"
   ]
  },
  {
   "cell_type": "code",
   "execution_count": 24,
   "metadata": {
    "ExecuteTime": {
     "end_time": "2017-10-27T13:25:39.111238Z",
     "start_time": "2017-10-27T13:25:39.104691Z"
    }
   },
   "outputs": [
    {
     "data": {
      "text/plain": [
       "['zzzz', 1, True, 3.14, 'new appended value']"
      ]
     },
     "execution_count": 24,
     "metadata": {},
     "output_type": "execute_result"
    }
   ],
   "source": [
    "my_list"
   ]
  },
  {
   "cell_type": "code",
   "execution_count": 25,
   "metadata": {
    "ExecuteTime": {
     "end_time": "2017-10-27T13:25:55.918279Z",
     "start_time": "2017-10-27T13:25:55.912691Z"
    },
    "collapsed": true
   },
   "outputs": [],
   "source": [
    "my_list.append(['a1', 'a2'])"
   ]
  },
  {
   "cell_type": "code",
   "execution_count": 26,
   "metadata": {
    "ExecuteTime": {
     "end_time": "2017-10-27T13:25:58.815440Z",
     "start_time": "2017-10-27T13:25:58.809912Z"
    }
   },
   "outputs": [
    {
     "data": {
      "text/plain": [
       "['zzzz', 1, True, 3.14, 'new appended value', ['a1', 'a2']]"
      ]
     },
     "execution_count": 26,
     "metadata": {},
     "output_type": "execute_result"
    }
   ],
   "source": [
    "my_list"
   ]
  },
  {
   "cell_type": "code",
   "execution_count": 29,
   "metadata": {
    "ExecuteTime": {
     "end_time": "2017-10-27T13:27:04.414455Z",
     "start_time": "2017-10-27T13:27:04.409292Z"
    }
   },
   "outputs": [
    {
     "data": {
      "text/plain": [
       "['a1', 'a2']"
      ]
     },
     "execution_count": 29,
     "metadata": {},
     "output_type": "execute_result"
    }
   ],
   "source": [
    "my_list[5]"
   ]
  },
  {
   "cell_type": "code",
   "execution_count": 30,
   "metadata": {
    "ExecuteTime": {
     "end_time": "2017-10-27T13:27:23.232649Z",
     "start_time": "2017-10-27T13:27:23.226015Z"
    }
   },
   "outputs": [
    {
     "data": {
      "text/plain": [
       "'a2'"
      ]
     },
     "execution_count": 30,
     "metadata": {},
     "output_type": "execute_result"
    }
   ],
   "source": [
    "my_list[5][1]"
   ]
  },
  {
   "cell_type": "code",
   "execution_count": 31,
   "metadata": {
    "ExecuteTime": {
     "end_time": "2017-10-27T13:29:50.784696Z",
     "start_time": "2017-10-27T13:29:50.777876Z"
    }
   },
   "outputs": [
    {
     "data": {
      "text/plain": [
       "['zzzz', 1, True, 3.14, 'new appended value', ['a1', 'a2']]"
      ]
     },
     "execution_count": 31,
     "metadata": {},
     "output_type": "execute_result"
    }
   ],
   "source": [
    "my_list"
   ]
  },
  {
   "cell_type": "code",
   "execution_count": 32,
   "metadata": {
    "ExecuteTime": {
     "end_time": "2017-10-27T13:29:53.654441Z",
     "start_time": "2017-10-27T13:29:53.647661Z"
    }
   },
   "outputs": [
    {
     "data": {
      "text/plain": [
       "['a1', 'a2']"
      ]
     },
     "execution_count": 32,
     "metadata": {},
     "output_type": "execute_result"
    }
   ],
   "source": [
    "my_list.pop()"
   ]
  },
  {
   "cell_type": "code",
   "execution_count": 33,
   "metadata": {
    "ExecuteTime": {
     "end_time": "2017-10-27T13:29:59.407718Z",
     "start_time": "2017-10-27T13:29:59.398114Z"
    }
   },
   "outputs": [
    {
     "data": {
      "text/plain": [
       "['zzzz', 1, True, 3.14, 'new appended value']"
      ]
     },
     "execution_count": 33,
     "metadata": {},
     "output_type": "execute_result"
    }
   ],
   "source": [
    "my_list"
   ]
  },
  {
   "cell_type": "code",
   "execution_count": 34,
   "metadata": {
    "ExecuteTime": {
     "end_time": "2017-10-27T13:30:41.458810Z",
     "start_time": "2017-10-27T13:30:41.447444Z"
    },
    "collapsed": true
   },
   "outputs": [],
   "source": [
    "my_list.insert(0, 'insert0')"
   ]
  },
  {
   "cell_type": "code",
   "execution_count": 35,
   "metadata": {
    "ExecuteTime": {
     "end_time": "2017-10-27T13:30:43.651521Z",
     "start_time": "2017-10-27T13:30:43.636905Z"
    }
   },
   "outputs": [
    {
     "data": {
      "text/plain": [
       "['insert0', 'zzzz', 1, True, 3.14, 'new appended value']"
      ]
     },
     "execution_count": 35,
     "metadata": {},
     "output_type": "execute_result"
    }
   ],
   "source": [
    "my_list"
   ]
  },
  {
   "cell_type": "code",
   "execution_count": 36,
   "metadata": {
    "ExecuteTime": {
     "end_time": "2017-10-27T13:32:05.929981Z",
     "start_time": "2017-10-27T13:32:05.923321Z"
    }
   },
   "outputs": [
    {
     "data": {
      "text/plain": [
       "['insert0', 'zzzz', 1, True, 3.14, 'new appended value']"
      ]
     },
     "execution_count": 36,
     "metadata": {},
     "output_type": "execute_result"
    }
   ],
   "source": [
    "my_list.copy()"
   ]
  },
  {
   "cell_type": "code",
   "execution_count": 37,
   "metadata": {
    "ExecuteTime": {
     "end_time": "2017-10-27T13:32:16.908728Z",
     "start_time": "2017-10-27T13:32:16.896075Z"
    },
    "collapsed": true
   },
   "outputs": [],
   "source": [
    "my_list2 = my_list.copy()"
   ]
  },
  {
   "cell_type": "code",
   "execution_count": null,
   "metadata": {
    "collapsed": true
   },
   "outputs": [],
   "source": []
  },
  {
   "cell_type": "code",
   "execution_count": 38,
   "metadata": {
    "ExecuteTime": {
     "end_time": "2017-10-27T13:34:01.632297Z",
     "start_time": "2017-10-27T13:34:01.628533Z"
    },
    "collapsed": true
   },
   "outputs": [],
   "source": [
    "my_tuple = ('a', 1, True, 3.14)"
   ]
  },
  {
   "cell_type": "code",
   "execution_count": 39,
   "metadata": {
    "ExecuteTime": {
     "end_time": "2017-10-27T13:34:04.279527Z",
     "start_time": "2017-10-27T13:34:04.274116Z"
    }
   },
   "outputs": [
    {
     "data": {
      "text/plain": [
       "('a', 1, True, 3.14)"
      ]
     },
     "execution_count": 39,
     "metadata": {},
     "output_type": "execute_result"
    }
   ],
   "source": [
    "my_tuple"
   ]
  },
  {
   "cell_type": "code",
   "execution_count": 40,
   "metadata": {
    "ExecuteTime": {
     "end_time": "2017-10-27T13:34:10.972660Z",
     "start_time": "2017-10-27T13:34:10.967188Z"
    }
   },
   "outputs": [
    {
     "data": {
      "text/plain": [
       "tuple"
      ]
     },
     "execution_count": 40,
     "metadata": {},
     "output_type": "execute_result"
    }
   ],
   "source": [
    "type(my_tuple)"
   ]
  },
  {
   "cell_type": "code",
   "execution_count": 41,
   "metadata": {
    "ExecuteTime": {
     "end_time": "2017-10-27T13:34:32.929728Z",
     "start_time": "2017-10-27T13:34:32.917581Z"
    }
   },
   "outputs": [
    {
     "data": {
      "text/plain": [
       "'a'"
      ]
     },
     "execution_count": 41,
     "metadata": {},
     "output_type": "execute_result"
    }
   ],
   "source": [
    "my_tuple[0]"
   ]
  },
  {
   "cell_type": "code",
   "execution_count": 42,
   "metadata": {
    "ExecuteTime": {
     "end_time": "2017-10-27T13:34:53.338761Z",
     "start_time": "2017-10-27T13:34:53.322602Z"
    }
   },
   "outputs": [
    {
     "ename": "TypeError",
     "evalue": "'tuple' object does not support item assignment",
     "output_type": "error",
     "traceback": [
      "\u001b[0;31m--------------------------------------------------------\u001b[0m",
      "\u001b[0;31mTypeError\u001b[0m              Traceback (most recent call last)",
      "\u001b[0;32m<ipython-input-42-10f0644b2600>\u001b[0m in \u001b[0;36m<module>\u001b[0;34m()\u001b[0m\n\u001b[0;32m----> 1\u001b[0;31m \u001b[0mmy_tuple\u001b[0m\u001b[0;34m[\u001b[0m\u001b[0;36m0\u001b[0m\u001b[0;34m]\u001b[0m \u001b[0;34m=\u001b[0m \u001b[0;34m'zzzz'\u001b[0m\u001b[0;34m\u001b[0m\u001b[0m\n\u001b[0m",
      "\u001b[0;31mTypeError\u001b[0m: 'tuple' object does not support item assignment"
     ]
    }
   ],
   "source": [
    "my_tuple[0] = 'zzzz'"
   ]
  },
  {
   "cell_type": "code",
   "execution_count": null,
   "metadata": {
    "collapsed": true
   },
   "outputs": [],
   "source": []
  },
  {
   "cell_type": "code",
   "execution_count": 43,
   "metadata": {
    "ExecuteTime": {
     "end_time": "2017-10-27T13:36:17.290766Z",
     "start_time": "2017-10-27T13:36:17.285985Z"
    },
    "collapsed": true
   },
   "outputs": [],
   "source": [
    "my_dict = {'fname': 'Daniel'}\n"
   ]
  },
  {
   "cell_type": "code",
   "execution_count": 44,
   "metadata": {
    "ExecuteTime": {
     "end_time": "2017-10-27T13:36:19.936389Z",
     "start_time": "2017-10-27T13:36:19.930131Z"
    }
   },
   "outputs": [
    {
     "data": {
      "text/plain": [
       "{'fname': 'Daniel'}"
      ]
     },
     "execution_count": 44,
     "metadata": {},
     "output_type": "execute_result"
    }
   ],
   "source": [
    "my_dict"
   ]
  },
  {
   "cell_type": "code",
   "execution_count": 45,
   "metadata": {
    "ExecuteTime": {
     "end_time": "2017-10-27T13:38:53.196004Z",
     "start_time": "2017-10-27T13:38:53.192596Z"
    },
    "collapsed": true
   },
   "outputs": [],
   "source": [
    "my_dict = {'name': ['Daniel', 'Chen']}"
   ]
  },
  {
   "cell_type": "code",
   "execution_count": 47,
   "metadata": {
    "ExecuteTime": {
     "end_time": "2017-10-27T13:40:00.324677Z",
     "start_time": "2017-10-27T13:40:00.314316Z"
    }
   },
   "outputs": [],
   "source": [
    "my_dict = 3"
   ]
  },
  {
   "cell_type": "code",
   "execution_count": 48,
   "metadata": {
    "ExecuteTime": {
     "end_time": "2017-10-27T13:40:02.555582Z",
     "start_time": "2017-10-27T13:40:02.550584Z"
    }
   },
   "outputs": [
    {
     "data": {
      "text/plain": [
       "3"
      ]
     },
     "execution_count": 48,
     "metadata": {},
     "output_type": "execute_result"
    }
   ],
   "source": [
    "my_dict"
   ]
  },
  {
   "cell_type": "code",
   "execution_count": 49,
   "metadata": {
    "ExecuteTime": {
     "end_time": "2017-10-27T13:42:07.189227Z",
     "start_time": "2017-10-27T13:42:07.183581Z"
    }
   },
   "outputs": [
    {
     "data": {
      "text/plain": [
       "True"
      ]
     },
     "execution_count": 49,
     "metadata": {},
     "output_type": "execute_result"
    }
   ],
   "source": [
    "isinstance('this is a string', str)"
   ]
  },
  {
   "cell_type": "code",
   "execution_count": 51,
   "metadata": {
    "ExecuteTime": {
     "end_time": "2017-10-27T13:44:04.690844Z",
     "start_time": "2017-10-27T13:44:04.686152Z"
    },
    "collapsed": true
   },
   "outputs": [],
   "source": [
    "my_dict = {'name': ['Daniel', 'Chen'],\n",
    "          'languages': ['Python', \"R\"]}"
   ]
  },
  {
   "cell_type": "code",
   "execution_count": 52,
   "metadata": {
    "ExecuteTime": {
     "end_time": "2017-10-27T13:44:07.529416Z",
     "start_time": "2017-10-27T13:44:07.521879Z"
    }
   },
   "outputs": [
    {
     "data": {
      "text/plain": [
       "{'languages': ['Python', 'R'], 'name': ['Daniel', 'Chen']}"
      ]
     },
     "execution_count": 52,
     "metadata": {},
     "output_type": "execute_result"
    }
   ],
   "source": [
    "my_dict"
   ]
  },
  {
   "cell_type": "code",
   "execution_count": 53,
   "metadata": {
    "ExecuteTime": {
     "end_time": "2017-10-27T13:44:39.920430Z",
     "start_time": "2017-10-27T13:44:39.903187Z"
    }
   },
   "outputs": [
    {
     "data": {
      "text/plain": [
       "['Python', 'R']"
      ]
     },
     "execution_count": 53,
     "metadata": {},
     "output_type": "execute_result"
    }
   ],
   "source": [
    "my_dict['languages']"
   ]
  },
  {
   "cell_type": "code",
   "execution_count": 54,
   "metadata": {
    "ExecuteTime": {
     "end_time": "2017-10-27T13:44:50.369142Z",
     "start_time": "2017-10-27T13:44:50.336130Z"
    }
   },
   "outputs": [
    {
     "ename": "KeyError",
     "evalue": "'noExist'",
     "output_type": "error",
     "traceback": [
      "\u001b[0;31m--------------------------------------------------------\u001b[0m",
      "\u001b[0;31mKeyError\u001b[0m               Traceback (most recent call last)",
      "\u001b[0;32m<ipython-input-54-4c128fd7ee92>\u001b[0m in \u001b[0;36m<module>\u001b[0;34m()\u001b[0m\n\u001b[0;32m----> 1\u001b[0;31m \u001b[0mmy_dict\u001b[0m\u001b[0;34m[\u001b[0m\u001b[0;34m'noExist'\u001b[0m\u001b[0;34m]\u001b[0m\u001b[0;34m\u001b[0m\u001b[0m\n\u001b[0m",
      "\u001b[0;31mKeyError\u001b[0m: 'noExist'"
     ]
    }
   ],
   "source": [
    "my_dict['noExist']"
   ]
  },
  {
   "cell_type": "code",
   "execution_count": 56,
   "metadata": {
    "ExecuteTime": {
     "end_time": "2017-10-27T13:45:10.812708Z",
     "start_time": "2017-10-27T13:45:10.804532Z"
    }
   },
   "outputs": [
    {
     "data": {
      "text/plain": [
       "['Python', 'R']"
      ]
     },
     "execution_count": 56,
     "metadata": {},
     "output_type": "execute_result"
    }
   ],
   "source": [
    "my_dict.get('languages')"
   ]
  },
  {
   "cell_type": "code",
   "execution_count": 57,
   "metadata": {
    "ExecuteTime": {
     "end_time": "2017-10-27T13:45:21.290684Z",
     "start_time": "2017-10-27T13:45:21.286344Z"
    },
    "collapsed": true
   },
   "outputs": [],
   "source": [
    "my_dict.get('noExist')"
   ]
  },
  {
   "cell_type": "code",
   "execution_count": 58,
   "metadata": {
    "ExecuteTime": {
     "end_time": "2017-10-27T13:45:29.372172Z",
     "start_time": "2017-10-27T13:45:29.368210Z"
    }
   },
   "outputs": [
    {
     "name": "stdout",
     "output_type": "stream",
     "text": [
      "None\n"
     ]
    }
   ],
   "source": [
    "print(my_dict.get('noExist'))"
   ]
  },
  {
   "cell_type": "code",
   "execution_count": null,
   "metadata": {
    "collapsed": true
   },
   "outputs": [],
   "source": [
    "None"
   ]
  },
  {
   "cell_type": "code",
   "execution_count": 59,
   "metadata": {
    "ExecuteTime": {
     "end_time": "2017-10-27T13:46:25.399004Z",
     "start_time": "2017-10-27T13:46:25.393535Z"
    }
   },
   "outputs": [
    {
     "data": {
      "text/plain": [
       "dict_keys(['name', 'languages'])"
      ]
     },
     "execution_count": 59,
     "metadata": {},
     "output_type": "execute_result"
    }
   ],
   "source": [
    "my_dict.keys()"
   ]
  },
  {
   "cell_type": "code",
   "execution_count": 60,
   "metadata": {
    "ExecuteTime": {
     "end_time": "2017-10-27T13:46:33.353678Z",
     "start_time": "2017-10-27T13:46:33.344135Z"
    }
   },
   "outputs": [
    {
     "data": {
      "text/plain": [
       "dict_values([['Daniel', 'Chen'], ['Python', 'R']])"
      ]
     },
     "execution_count": 60,
     "metadata": {},
     "output_type": "execute_result"
    }
   ],
   "source": [
    "my_dict.values()"
   ]
  },
  {
   "cell_type": "code",
   "execution_count": 64,
   "metadata": {
    "ExecuteTime": {
     "end_time": "2017-10-27T13:47:15.757947Z",
     "start_time": "2017-10-27T13:47:15.752525Z"
    }
   },
   "outputs": [
    {
     "data": {
      "text/plain": [
       "dict_items([('name', ['Daniel', 'Chen']), ('languages', ['Python', 'R'])])"
      ]
     },
     "execution_count": 64,
     "metadata": {},
     "output_type": "execute_result"
    }
   ],
   "source": [
    "my_dict.items()"
   ]
  },
  {
   "cell_type": "code",
   "execution_count": 66,
   "metadata": {
    "ExecuteTime": {
     "end_time": "2017-10-27T13:48:59.704493Z",
     "start_time": "2017-10-27T13:48:59.698935Z"
    }
   },
   "outputs": [
    {
     "data": {
      "text/plain": [
       "{'new_item_1': 'new_item'}"
      ]
     },
     "execution_count": 66,
     "metadata": {},
     "output_type": "execute_result"
    }
   ],
   "source": [
    "new_item = {'new_item_1': 'new_item'}\n",
    "new_item"
   ]
  },
  {
   "cell_type": "code",
   "execution_count": 67,
   "metadata": {
    "ExecuteTime": {
     "end_time": "2017-10-27T13:49:09.004526Z",
     "start_time": "2017-10-27T13:49:09.001159Z"
    },
    "collapsed": true
   },
   "outputs": [],
   "source": [
    "my_dict.update(new_item)"
   ]
  },
  {
   "cell_type": "code",
   "execution_count": 68,
   "metadata": {
    "ExecuteTime": {
     "end_time": "2017-10-27T13:49:11.827146Z",
     "start_time": "2017-10-27T13:49:11.811381Z"
    }
   },
   "outputs": [
    {
     "data": {
      "text/plain": [
       "{'languages': ['Python', 'R'],\n",
       " 'name': ['Daniel', 'Chen'],\n",
       " 'new_item_1': 'new_item'}"
      ]
     },
     "execution_count": 68,
     "metadata": {},
     "output_type": "execute_result"
    }
   ],
   "source": [
    "my_dict"
   ]
  },
  {
   "cell_type": "code",
   "execution_count": 69,
   "metadata": {
    "ExecuteTime": {
     "end_time": "2017-10-27T13:50:12.327011Z",
     "start_time": "2017-10-27T13:50:12.320939Z"
    },
    "collapsed": true
   },
   "outputs": [],
   "source": [
    "new_replace = {\n",
    "    'languages': ['English', 'really bad chinese'],\n",
    "    'new_item_2': 'new_item'\n",
    "}\n",
    "my_dict.update(new_replace)"
   ]
  },
  {
   "cell_type": "code",
   "execution_count": 70,
   "metadata": {
    "ExecuteTime": {
     "end_time": "2017-10-27T13:50:15.254773Z",
     "start_time": "2017-10-27T13:50:15.250331Z"
    }
   },
   "outputs": [
    {
     "data": {
      "text/plain": [
       "{'languages': ['English', 'really bad chinese'],\n",
       " 'name': ['Daniel', 'Chen'],\n",
       " 'new_item_1': 'new_item',\n",
       " 'new_item_2': 'new_item'}"
      ]
     },
     "execution_count": 70,
     "metadata": {},
     "output_type": "execute_result"
    }
   ],
   "source": [
    "my_dict"
   ]
  },
  {
   "cell_type": "code",
   "execution_count": 71,
   "metadata": {
    "ExecuteTime": {
     "end_time": "2017-10-27T13:52:16.977339Z",
     "start_time": "2017-10-27T13:52:16.970908Z"
    },
    "collapsed": true
   },
   "outputs": [],
   "source": [
    "new_item_t = {\n",
    "    (3, 4): ['s1', 's2']\n",
    "}\n",
    "my_dict.update(new_item_t)"
   ]
  },
  {
   "cell_type": "code",
   "execution_count": 72,
   "metadata": {
    "ExecuteTime": {
     "end_time": "2017-10-27T13:52:19.680378Z",
     "start_time": "2017-10-27T13:52:19.675112Z"
    }
   },
   "outputs": [
    {
     "data": {
      "text/plain": [
       "{'name': ['Daniel', 'Chen'],\n",
       " 'languages': ['English', 'really bad chinese'],\n",
       " 'new_item_1': 'new_item',\n",
       " 'new_item_2': 'new_item',\n",
       " (3, 4): ['s1', 's2']}"
      ]
     },
     "execution_count": 72,
     "metadata": {},
     "output_type": "execute_result"
    }
   ],
   "source": [
    "my_dict"
   ]
  },
  {
   "cell_type": "code",
   "execution_count": 73,
   "metadata": {
    "ExecuteTime": {
     "end_time": "2017-10-27T13:52:31.201743Z",
     "start_time": "2017-10-27T13:52:31.196065Z"
    }
   },
   "outputs": [
    {
     "data": {
      "text/plain": [
       "['s1', 's2']"
      ]
     },
     "execution_count": 73,
     "metadata": {},
     "output_type": "execute_result"
    }
   ],
   "source": [
    "my_dict[(3, 4)]"
   ]
  },
  {
   "cell_type": "code",
   "execution_count": 77,
   "metadata": {
    "ExecuteTime": {
     "end_time": "2017-10-27T13:55:03.371684Z",
     "start_time": "2017-10-27T13:55:03.360924Z"
    }
   },
   "outputs": [
    {
     "data": {
      "text/plain": [
       "{'name': ['Daniel', 'Chen'],\n",
       " 'languages': 'asdf',\n",
       " 'new_item_1': 'new_item',\n",
       " 'new_item_2': 'new_item',\n",
       " (3, 4): ['s1', 's2']}"
      ]
     },
     "execution_count": 77,
     "metadata": {},
     "output_type": "execute_result"
    }
   ],
   "source": [
    "my_dict['languages'] = 'asdf'\n",
    "my_dict"
   ]
  },
  {
   "cell_type": "code",
   "execution_count": null,
   "metadata": {
    "collapsed": true
   },
   "outputs": [],
   "source": []
  },
  {
   "cell_type": "code",
   "execution_count": 75,
   "metadata": {
    "ExecuteTime": {
     "end_time": "2017-10-27T13:53:37.580689Z",
     "start_time": "2017-10-27T13:53:37.572649Z"
    }
   },
   "outputs": [
    {
     "data": {
      "text/plain": [
       "['a', 1, True, 3.14]"
      ]
     },
     "execution_count": 75,
     "metadata": {},
     "output_type": "execute_result"
    }
   ],
   "source": [
    "my_list = ['a', 1, True, 3.14]\n",
    "my_list"
   ]
  },
  {
   "cell_type": "code",
   "execution_count": 79,
   "metadata": {
    "ExecuteTime": {
     "end_time": "2017-10-27T13:59:46.926733Z",
     "start_time": "2017-10-27T13:59:46.915448Z"
    }
   },
   "outputs": [
    {
     "name": "stdout",
     "output_type": "stream",
     "text": [
      "in list\n",
      "a\n",
      "in list\n",
      "1\n",
      "in list\n",
      "True\n",
      "in list\n",
      "3.14\n",
      "out of loop\n"
     ]
    }
   ],
   "source": [
    "for item in my_list:\n",
    "    print('in list')\n",
    "    print(item)\n",
    "    \n",
    "print('out of loop')"
   ]
  },
  {
   "cell_type": "code",
   "execution_count": 81,
   "metadata": {
    "ExecuteTime": {
     "end_time": "2017-10-27T14:01:45.977534Z",
     "start_time": "2017-10-27T14:01:45.969897Z"
    }
   },
   "outputs": [
    {
     "name": "stdout",
     "output_type": "stream",
     "text": [
      "a\n",
      "1\n",
      "True\n",
      "3.14\n"
     ]
    }
   ],
   "source": [
    "idx = 0\n",
    "for item in my_list:\n",
    "    print(my_list[idx])\n",
    "    # idx = idx + 1\n",
    "    idx += 1"
   ]
  },
  {
   "cell_type": "code",
   "execution_count": 84,
   "metadata": {
    "ExecuteTime": {
     "end_time": "2017-10-27T14:04:01.257281Z",
     "start_time": "2017-10-27T14:04:01.242695Z"
    }
   },
   "outputs": [
    {
     "ename": "ValueError",
     "evalue": "not enough values to unpack (expected 2, got 1)",
     "output_type": "error",
     "traceback": [
      "\u001b[0;31m--------------------------------------------------------\u001b[0m",
      "\u001b[0;31mValueError\u001b[0m             Traceback (most recent call last)",
      "\u001b[0;32m<ipython-input-84-84f45cdc6ee1>\u001b[0m in \u001b[0;36m<module>\u001b[0;34m()\u001b[0m\n\u001b[0;32m----> 1\u001b[0;31m \u001b[0;32mfor\u001b[0m \u001b[0midx\u001b[0m\u001b[0;34m,\u001b[0m \u001b[0mitem\u001b[0m \u001b[0;32min\u001b[0m \u001b[0;34m(\u001b[0m\u001b[0mmy_list\u001b[0m\u001b[0;34m)\u001b[0m\u001b[0;34m:\u001b[0m\u001b[0;34m\u001b[0m\u001b[0m\n\u001b[0m\u001b[1;32m      2\u001b[0m     \u001b[0mprint\u001b[0m\u001b[0;34m(\u001b[0m\u001b[0midx\u001b[0m\u001b[0;34m)\u001b[0m\u001b[0;34m\u001b[0m\u001b[0m\n\u001b[1;32m      3\u001b[0m     \u001b[0mprint\u001b[0m\u001b[0;34m(\u001b[0m\u001b[0mitem\u001b[0m\u001b[0;34m)\u001b[0m\u001b[0;34m\u001b[0m\u001b[0m\n",
      "\u001b[0;31mValueError\u001b[0m: not enough values to unpack (expected 2, got 1)"
     ]
    }
   ],
   "source": [
    "for idx, item in enumerate(my_list):\n",
    "    print(idx)\n",
    "    print(item)"
   ]
  },
  {
   "cell_type": "code",
   "execution_count": 87,
   "metadata": {
    "ExecuteTime": {
     "end_time": "2017-10-27T14:04:50.775878Z",
     "start_time": "2017-10-27T14:04:50.768591Z"
    }
   },
   "outputs": [
    {
     "name": "stdout",
     "output_type": "stream",
     "text": [
      "name\n",
      "['Daniel', 'Chen']\n",
      "languages\n",
      "asdf\n",
      "new_item_1\n",
      "new_item\n",
      "new_item_2\n",
      "new_item\n",
      "(3, 4)\n",
      "['s1', 's2']\n"
     ]
    }
   ],
   "source": [
    "for k, v in my_dict.items():\n",
    "    print(k)\n",
    "    print(v)"
   ]
  },
  {
   "cell_type": "code",
   "execution_count": 88,
   "metadata": {
    "ExecuteTime": {
     "end_time": "2017-10-27T14:06:13.923407Z",
     "start_time": "2017-10-27T14:06:13.919649Z"
    },
    "collapsed": true
   },
   "outputs": [],
   "source": [
    "l = [1, 2, 3, [4, 5, 6]]"
   ]
  },
  {
   "cell_type": "code",
   "execution_count": 89,
   "metadata": {
    "ExecuteTime": {
     "end_time": "2017-10-27T14:06:33.819034Z",
     "start_time": "2017-10-27T14:06:33.815735Z"
    },
    "collapsed": true
   },
   "outputs": [],
   "source": [
    "b = l[3]"
   ]
  },
  {
   "cell_type": "code",
   "execution_count": 90,
   "metadata": {
    "ExecuteTime": {
     "end_time": "2017-10-27T14:06:35.853068Z",
     "start_time": "2017-10-27T14:06:35.846209Z"
    }
   },
   "outputs": [
    {
     "data": {
      "text/plain": [
       "[1, 2, 3, [4, 5, 6]]"
      ]
     },
     "execution_count": 90,
     "metadata": {},
     "output_type": "execute_result"
    }
   ],
   "source": [
    "l"
   ]
  },
  {
   "cell_type": "code",
   "execution_count": 91,
   "metadata": {
    "ExecuteTime": {
     "end_time": "2017-10-27T14:06:37.719036Z",
     "start_time": "2017-10-27T14:06:37.712179Z"
    }
   },
   "outputs": [
    {
     "data": {
      "text/plain": [
       "[4, 5, 6]"
      ]
     },
     "execution_count": 91,
     "metadata": {},
     "output_type": "execute_result"
    }
   ],
   "source": [
    "b"
   ]
  },
  {
   "cell_type": "code",
   "execution_count": 93,
   "metadata": {
    "ExecuteTime": {
     "end_time": "2017-10-27T14:06:49.214416Z",
     "start_time": "2017-10-27T14:06:49.210814Z"
    }
   },
   "outputs": [],
   "source": [
    "b[0] = 'asdf'"
   ]
  },
  {
   "cell_type": "code",
   "execution_count": 94,
   "metadata": {
    "ExecuteTime": {
     "end_time": "2017-10-27T14:06:53.011847Z",
     "start_time": "2017-10-27T14:06:53.006601Z"
    }
   },
   "outputs": [
    {
     "data": {
      "text/plain": [
       "['asdf', 5, 6]"
      ]
     },
     "execution_count": 94,
     "metadata": {},
     "output_type": "execute_result"
    }
   ],
   "source": [
    "b"
   ]
  },
  {
   "cell_type": "code",
   "execution_count": 95,
   "metadata": {
    "ExecuteTime": {
     "end_time": "2017-10-27T14:06:56.768134Z",
     "start_time": "2017-10-27T14:06:56.761393Z"
    }
   },
   "outputs": [
    {
     "data": {
      "text/plain": [
       "[1, 2, 3, ['asdf', 5, 6]]"
      ]
     },
     "execution_count": 95,
     "metadata": {},
     "output_type": "execute_result"
    }
   ],
   "source": [
    "l"
   ]
  },
  {
   "cell_type": "code",
   "execution_count": null,
   "metadata": {
    "collapsed": true
   },
   "outputs": [],
   "source": [
    "# copy\n",
    "# deepcopy"
   ]
  },
  {
   "cell_type": "code",
   "execution_count": 96,
   "metadata": {
    "ExecuteTime": {
     "end_time": "2017-10-27T14:08:32.918154Z",
     "start_time": "2017-10-27T14:08:32.914785Z"
    },
    "collapsed": true
   },
   "outputs": [],
   "source": [
    "l = [1, 2, 3]"
   ]
  },
  {
   "cell_type": "code",
   "execution_count": 107,
   "metadata": {
    "ExecuteTime": {
     "end_time": "2017-10-27T14:13:19.007006Z",
     "start_time": "2017-10-27T14:13:12.434923Z"
    }
   },
   "outputs": [
    {
     "name": "stdout",
     "output_type": "stream",
     "text": [
      "804 ns ± 38.4 ns per loop (mean ± std. dev. of 7 runs, 1000000 loops each)\n"
     ]
    }
   ],
   "source": [
    "%%timeit\n",
    "l2 = []\n",
    "for i in l:\n",
    "    l2.append(i * i)"
   ]
  },
  {
   "cell_type": "code",
   "execution_count": 98,
   "metadata": {
    "ExecuteTime": {
     "end_time": "2017-10-27T14:09:57.080973Z",
     "start_time": "2017-10-27T14:09:57.075955Z"
    }
   },
   "outputs": [
    {
     "data": {
      "text/plain": [
       "[1, 4, 9]"
      ]
     },
     "execution_count": 98,
     "metadata": {},
     "output_type": "execute_result"
    }
   ],
   "source": [
    "l2"
   ]
  },
  {
   "cell_type": "code",
   "execution_count": 108,
   "metadata": {
    "ExecuteTime": {
     "end_time": "2017-10-27T14:13:39.241557Z",
     "start_time": "2017-10-27T14:13:33.220307Z"
    }
   },
   "outputs": [
    {
     "name": "stdout",
     "output_type": "stream",
     "text": [
      "739 ns ± 101 ns per loop (mean ± std. dev. of 7 runs, 1000000 loops each)\n"
     ]
    }
   ],
   "source": [
    "%%timeit\n",
    "lc = [i*i for i in l]"
   ]
  },
  {
   "cell_type": "code",
   "execution_count": 100,
   "metadata": {
    "ExecuteTime": {
     "end_time": "2017-10-27T14:12:24.441676Z",
     "start_time": "2017-10-27T14:12:24.428559Z"
    }
   },
   "outputs": [
    {
     "data": {
      "text/plain": [
       "[1, 4, 9]"
      ]
     },
     "execution_count": 100,
     "metadata": {},
     "output_type": "execute_result"
    }
   ],
   "source": [
    "lc"
   ]
  },
  {
   "cell_type": "code",
   "execution_count": 109,
   "metadata": {
    "ExecuteTime": {
     "end_time": "2017-10-27T14:15:26.623844Z",
     "start_time": "2017-10-27T14:15:26.618956Z"
    }
   },
   "outputs": [
    {
     "name": "stdout",
     "output_type": "stream",
     "text": [
      "12\n",
      "3\n",
      "4\n"
     ]
    }
   ],
   "source": [
    "for i in [12, 3, 4]:\n",
    "    print(i)"
   ]
  },
  {
   "cell_type": "code",
   "execution_count": 110,
   "metadata": {
    "ExecuteTime": {
     "end_time": "2017-10-27T14:15:36.268374Z",
     "start_time": "2017-10-27T14:15:36.263072Z"
    }
   },
   "outputs": [
    {
     "name": "stdout",
     "output_type": "stream",
     "text": [
      "0\n",
      "1\n",
      "2\n",
      "3\n",
      "4\n",
      "5\n",
      "6\n",
      "7\n",
      "8\n",
      "9\n"
     ]
    }
   ],
   "source": [
    "for i in range(10):\n",
    "    print(i)"
   ]
  },
  {
   "cell_type": "code",
   "execution_count": 111,
   "metadata": {
    "ExecuteTime": {
     "end_time": "2017-10-27T14:15:43.672229Z",
     "start_time": "2017-10-27T14:15:43.667371Z"
    }
   },
   "outputs": [
    {
     "data": {
      "text/plain": [
       "range(0, 10)"
      ]
     },
     "execution_count": 111,
     "metadata": {},
     "output_type": "execute_result"
    }
   ],
   "source": [
    "range(10)"
   ]
  },
  {
   "cell_type": "code",
   "execution_count": 112,
   "metadata": {
    "ExecuteTime": {
     "end_time": "2017-10-27T14:15:54.161978Z",
     "start_time": "2017-10-27T14:15:54.154754Z"
    }
   },
   "outputs": [
    {
     "data": {
      "text/plain": [
       "[0, 1, 2, 3, 4, 5, 6, 7, 8, 9]"
      ]
     },
     "execution_count": 112,
     "metadata": {},
     "output_type": "execute_result"
    }
   ],
   "source": [
    "list(range(10))"
   ]
  },
  {
   "cell_type": "code",
   "execution_count": 113,
   "metadata": {
    "ExecuteTime": {
     "end_time": "2017-10-27T14:17:35.401842Z",
     "start_time": "2017-10-27T14:17:35.398638Z"
    },
    "collapsed": true
   },
   "outputs": [],
   "source": [
    "import itertools"
   ]
  },
  {
   "cell_type": "code",
   "execution_count": 127,
   "metadata": {
    "ExecuteTime": {
     "end_time": "2017-10-27T14:23:36.066017Z",
     "start_time": "2017-10-27T14:23:36.060388Z"
    },
    "collapsed": true
   },
   "outputs": [],
   "source": [
    "prod = itertools.product([1, 2, 3], ['a', 'b', 'c'], [10, 20, 30])"
   ]
  },
  {
   "cell_type": "code",
   "execution_count": 128,
   "metadata": {
    "ExecuteTime": {
     "end_time": "2017-10-27T14:23:36.299165Z",
     "start_time": "2017-10-27T14:23:36.272733Z"
    }
   },
   "outputs": [
    {
     "data": {
      "text/plain": [
       "<itertools.product at 0x7f5830214d38>"
      ]
     },
     "execution_count": 128,
     "metadata": {},
     "output_type": "execute_result"
    }
   ],
   "source": [
    "prod"
   ]
  },
  {
   "cell_type": "code",
   "execution_count": 129,
   "metadata": {
    "ExecuteTime": {
     "end_time": "2017-10-27T14:23:36.522918Z",
     "start_time": "2017-10-27T14:23:36.490789Z"
    }
   },
   "outputs": [
    {
     "name": "stdout",
     "output_type": "stream",
     "text": [
      "0\n",
      "(1, 'a', 10)\n",
      "[1, 'a', 10]\n",
      "1\n",
      "(1, 'a', 20)\n",
      "[1, 'a', 20]\n",
      "2\n",
      "(1, 'a', 30)\n",
      "[1, 'a', 30]\n",
      "3\n",
      "(1, 'b', 10)\n",
      "[1, 'b', 10]\n",
      "4\n",
      "(1, 'b', 20)\n",
      "[1, 'b', 20]\n",
      "5\n",
      "(1, 'b', 30)\n",
      "[1, 'b', 30]\n",
      "6\n",
      "(1, 'c', 10)\n",
      "[1, 'c', 10]\n",
      "7\n",
      "(1, 'c', 20)\n",
      "[1, 'c', 20]\n",
      "8\n",
      "(1, 'c', 30)\n",
      "[1, 'c', 30]\n",
      "9\n",
      "(2, 'a', 10)\n",
      "[2, 'a', 10]\n",
      "10\n",
      "(2, 'a', 20)\n",
      "[2, 'a', 20]\n",
      "11\n",
      "(2, 'a', 30)\n",
      "[2, 'a', 30]\n",
      "12\n",
      "(2, 'b', 10)\n",
      "[2, 'b', 10]\n",
      "13\n",
      "(2, 'b', 20)\n",
      "[2, 'b', 20]\n",
      "14\n",
      "(2, 'b', 30)\n",
      "[2, 'b', 30]\n",
      "15\n",
      "(2, 'c', 10)\n",
      "[2, 'c', 10]\n",
      "16\n",
      "(2, 'c', 20)\n",
      "[2, 'c', 20]\n",
      "17\n",
      "(2, 'c', 30)\n",
      "[2, 'c', 30]\n",
      "18\n",
      "(3, 'a', 10)\n",
      "[3, 'a', 10]\n",
      "19\n",
      "(3, 'a', 20)\n",
      "[3, 'a', 20]\n",
      "20\n",
      "(3, 'a', 30)\n",
      "[3, 'a', 30]\n",
      "21\n",
      "(3, 'b', 10)\n",
      "[3, 'b', 10]\n",
      "22\n",
      "(3, 'b', 20)\n",
      "[3, 'b', 20]\n",
      "23\n",
      "(3, 'b', 30)\n",
      "[3, 'b', 30]\n",
      "24\n",
      "(3, 'c', 10)\n",
      "[3, 'c', 10]\n",
      "25\n",
      "(3, 'c', 20)\n",
      "[3, 'c', 20]\n",
      "26\n",
      "(3, 'c', 30)\n",
      "[3, 'c', 30]\n"
     ]
    }
   ],
   "source": [
    "for idx, i in enumerate(prod):\n",
    "    print(idx)\n",
    "    print(i)\n",
    "    values = list(i)\n",
    "    print(values)"
   ]
  },
  {
   "cell_type": "code",
   "execution_count": 125,
   "metadata": {
    "ExecuteTime": {
     "end_time": "2017-10-27T14:23:08.306327Z",
     "start_time": "2017-10-27T14:23:08.300147Z"
    }
   },
   "outputs": [
    {
     "data": {
      "text/plain": [
       "<itertools.product at 0x7f58304093a8>"
      ]
     },
     "execution_count": 125,
     "metadata": {},
     "output_type": "execute_result"
    }
   ],
   "source": [
    "prod"
   ]
  },
  {
   "cell_type": "code",
   "execution_count": 130,
   "metadata": {
    "ExecuteTime": {
     "end_time": "2017-10-27T14:25:22.686362Z",
     "start_time": "2017-10-27T14:25:22.673797Z"
    },
    "collapsed": true
   },
   "outputs": [],
   "source": [
    "def my_mean(x, y):\n",
    "    return (x + y) / 2"
   ]
  },
  {
   "cell_type": "code",
   "execution_count": 131,
   "metadata": {
    "ExecuteTime": {
     "end_time": "2017-10-27T14:25:29.677339Z",
     "start_time": "2017-10-27T14:25:29.670544Z"
    }
   },
   "outputs": [
    {
     "data": {
      "text/plain": [
       "15.0"
      ]
     },
     "execution_count": 131,
     "metadata": {},
     "output_type": "execute_result"
    }
   ],
   "source": [
    "my_mean(10, 20)"
   ]
  },
  {
   "cell_type": "code",
   "execution_count": 132,
   "metadata": {
    "ExecuteTime": {
     "end_time": "2017-10-27T14:27:50.849414Z",
     "start_time": "2017-10-27T14:27:50.836255Z"
    },
    "collapsed": true
   },
   "outputs": [],
   "source": [
    "def my_mean(*args):\n",
    "    total = 0\n",
    "    count = 0\n",
    "    for i in args:\n",
    "        total += i\n",
    "        count += 1\n",
    "    return total / count"
   ]
  },
  {
   "cell_type": "code",
   "execution_count": 133,
   "metadata": {
    "ExecuteTime": {
     "end_time": "2017-10-27T14:27:58.169701Z",
     "start_time": "2017-10-27T14:27:58.164418Z"
    }
   },
   "outputs": [
    {
     "data": {
      "text/plain": [
       "15.0"
      ]
     },
     "execution_count": 133,
     "metadata": {},
     "output_type": "execute_result"
    }
   ],
   "source": [
    "my_mean(10, 15, 20)"
   ]
  },
  {
   "cell_type": "code",
   "execution_count": 134,
   "metadata": {
    "ExecuteTime": {
     "end_time": "2017-10-27T14:28:03.698804Z",
     "start_time": "2017-10-27T14:28:03.692434Z"
    }
   },
   "outputs": [
    {
     "data": {
      "text/plain": [
       "15.0"
      ]
     },
     "execution_count": 134,
     "metadata": {},
     "output_type": "execute_result"
    }
   ],
   "source": [
    "my_mean(10, 20)"
   ]
  },
  {
   "cell_type": "code",
   "execution_count": 135,
   "metadata": {
    "ExecuteTime": {
     "end_time": "2017-10-27T14:28:10.672108Z",
     "start_time": "2017-10-27T14:28:10.667107Z"
    }
   },
   "outputs": [
    {
     "data": {
      "text/plain": [
       "50.0"
      ]
     },
     "execution_count": 135,
     "metadata": {},
     "output_type": "execute_result"
    }
   ],
   "source": [
    "my_mean(0, 100)"
   ]
  },
  {
   "cell_type": "code",
   "execution_count": 136,
   "metadata": {
    "ExecuteTime": {
     "end_time": "2017-10-27T14:28:37.355253Z",
     "start_time": "2017-10-27T14:28:37.345554Z"
    },
    "collapsed": true
   },
   "outputs": [],
   "source": [
    "def my_mean(x, *args):\n",
    "    total = 0\n",
    "    count = 0\n",
    "    for i in args:\n",
    "        total += i\n",
    "        count += 1\n",
    "    return total / count"
   ]
  },
  {
   "cell_type": "code",
   "execution_count": 138,
   "metadata": {
    "ExecuteTime": {
     "end_time": "2017-10-27T14:28:55.827958Z",
     "start_time": "2017-10-27T14:28:55.822779Z"
    }
   },
   "outputs": [
    {
     "data": {
      "text/plain": [
       "17.5"
      ]
     },
     "execution_count": 138,
     "metadata": {},
     "output_type": "execute_result"
    }
   ],
   "source": [
    "my_mean(10, 15, 20)"
   ]
  },
  {
   "cell_type": "code",
   "execution_count": null,
   "metadata": {
    "collapsed": true
   },
   "outputs": [],
   "source": [
    "def my_mean(x, y=0, *args, **kwargs):\n",
    "    total = 0\n",
    "    count = 0\n",
    "    for i in args:\n",
    "        total += i\n",
    "        count += 1\n",
    "    return total / count"
   ]
  },
  {
   "cell_type": "code",
   "execution_count": null,
   "metadata": {
    "collapsed": true
   },
   "outputs": [],
   "source": []
  },
  {
   "cell_type": "code",
   "execution_count": 184,
   "metadata": {
    "ExecuteTime": {
     "end_time": "2017-10-27T14:59:35.451343Z",
     "start_time": "2017-10-27T14:59:35.417080Z"
    }
   },
   "outputs": [],
   "source": [
    "class Person(object):\n",
    "    def __init__(self, fname, lname, age):\n",
    "        self.first_name = fname\n",
    "        self.last_name = lname\n",
    "        self.age = age\n",
    "    def birthday(self):\n",
    "        self.age += 1\n",
    "        print('happy birthday')\n",
    "    \n",
    "    def sum(x, y):\n",
    "        return x + y\n",
    "        "
   ]
  },
  {
   "cell_type": "code",
   "execution_count": 175,
   "metadata": {
    "ExecuteTime": {
     "end_time": "2017-10-27T14:45:30.836649Z",
     "start_time": "2017-10-27T14:45:30.829618Z"
    }
   },
   "outputs": [],
   "source": [
    "p1 = Person('daniel', 'chen', 28)"
   ]
  },
  {
   "cell_type": "code",
   "execution_count": 176,
   "metadata": {
    "ExecuteTime": {
     "end_time": "2017-10-27T14:45:30.995767Z",
     "start_time": "2017-10-27T14:45:30.990327Z"
    }
   },
   "outputs": [
    {
     "data": {
      "text/plain": [
       "<__main__.Person at 0x7f5830307da0>"
      ]
     },
     "execution_count": 176,
     "metadata": {},
     "output_type": "execute_result"
    }
   ],
   "source": [
    "p1"
   ]
  },
  {
   "cell_type": "code",
   "execution_count": 177,
   "metadata": {
    "ExecuteTime": {
     "end_time": "2017-10-27T14:45:31.212368Z",
     "start_time": "2017-10-27T14:45:31.205292Z"
    }
   },
   "outputs": [
    {
     "data": {
      "text/plain": [
       "'daniel'"
      ]
     },
     "execution_count": 177,
     "metadata": {},
     "output_type": "execute_result"
    }
   ],
   "source": [
    "p1.first_name"
   ]
  },
  {
   "cell_type": "code",
   "execution_count": 178,
   "metadata": {
    "ExecuteTime": {
     "end_time": "2017-10-27T14:45:31.430716Z",
     "start_time": "2017-10-27T14:45:31.415026Z"
    }
   },
   "outputs": [
    {
     "data": {
      "text/plain": [
       "28"
      ]
     },
     "execution_count": 178,
     "metadata": {},
     "output_type": "execute_result"
    }
   ],
   "source": [
    "p1.age"
   ]
  },
  {
   "cell_type": "code",
   "execution_count": 179,
   "metadata": {
    "ExecuteTime": {
     "end_time": "2017-10-27T14:45:31.544075Z",
     "start_time": "2017-10-27T14:45:31.530231Z"
    }
   },
   "outputs": [
    {
     "name": "stdout",
     "output_type": "stream",
     "text": [
      "happy birthday\n"
     ]
    }
   ],
   "source": [
    "p1.birthday()"
   ]
  },
  {
   "cell_type": "code",
   "execution_count": 180,
   "metadata": {
    "ExecuteTime": {
     "end_time": "2017-10-27T14:45:31.729843Z",
     "start_time": "2017-10-27T14:45:31.724173Z"
    }
   },
   "outputs": [
    {
     "data": {
      "text/plain": [
       "29"
      ]
     },
     "execution_count": 180,
     "metadata": {},
     "output_type": "execute_result"
    }
   ],
   "source": [
    "p1.age"
   ]
  },
  {
   "cell_type": "code",
   "execution_count": 181,
   "metadata": {
    "ExecuteTime": {
     "end_time": "2017-10-27T14:45:32.021925Z",
     "start_time": "2017-10-27T14:45:32.014157Z"
    }
   },
   "outputs": [
    {
     "data": {
      "text/plain": [
       "7"
      ]
     },
     "execution_count": 181,
     "metadata": {},
     "output_type": "execute_result"
    }
   ],
   "source": [
    "Person.sum(3, 4)"
   ]
  },
  {
   "cell_type": "code",
   "execution_count": 182,
   "metadata": {
    "ExecuteTime": {
     "end_time": "2017-10-27T14:47:47.295027Z",
     "start_time": "2017-10-27T14:47:47.290125Z"
    },
    "collapsed": true
   },
   "outputs": [],
   "source": [
    "p1.yo = 3"
   ]
  },
  {
   "cell_type": "code",
   "execution_count": 183,
   "metadata": {
    "ExecuteTime": {
     "end_time": "2017-10-27T14:47:54.614437Z",
     "start_time": "2017-10-27T14:47:54.608839Z"
    }
   },
   "outputs": [
    {
     "data": {
      "text/plain": [
       "3"
      ]
     },
     "execution_count": 183,
     "metadata": {},
     "output_type": "execute_result"
    }
   ],
   "source": [
    "p1.yo"
   ]
  },
  {
   "cell_type": "code",
   "execution_count": 185,
   "metadata": {
    "ExecuteTime": {
     "end_time": "2017-10-27T14:59:39.946238Z",
     "start_time": "2017-10-27T14:59:39.940038Z"
    },
    "collapsed": true
   },
   "outputs": [],
   "source": [
    "class Daniel(Person):\n",
    "    def __init__(self):\n",
    "        super(self, 'Daniel', 'Chen', 28)"
   ]
  },
  {
   "cell_type": "code",
   "execution_count": 186,
   "metadata": {
    "ExecuteTime": {
     "end_time": "2017-10-27T14:59:45.953625Z",
     "start_time": "2017-10-27T14:59:45.920226Z"
    }
   },
   "outputs": [
    {
     "ename": "TypeError",
     "evalue": "super() takes at most 2 arguments (4 given)",
     "output_type": "error",
     "traceback": [
      "\u001b[0;31m--------------------------------------------------------\u001b[0m",
      "\u001b[0;31mTypeError\u001b[0m              Traceback (most recent call last)",
      "\u001b[0;32m<ipython-input-186-8b59c7e0dbe5>\u001b[0m in \u001b[0;36m<module>\u001b[0;34m()\u001b[0m\n\u001b[0;32m----> 1\u001b[0;31m \u001b[0md\u001b[0m \u001b[0;34m=\u001b[0m \u001b[0mDaniel\u001b[0m\u001b[0;34m(\u001b[0m\u001b[0;34m)\u001b[0m\u001b[0;34m\u001b[0m\u001b[0m\n\u001b[0m",
      "\u001b[0;32m<ipython-input-185-134dbcf57292>\u001b[0m in \u001b[0;36m__init__\u001b[0;34m(self)\u001b[0m\n\u001b[1;32m      1\u001b[0m \u001b[0;32mclass\u001b[0m \u001b[0mDaniel\u001b[0m\u001b[0;34m(\u001b[0m\u001b[0mPerson\u001b[0m\u001b[0;34m)\u001b[0m\u001b[0;34m:\u001b[0m\u001b[0;34m\u001b[0m\u001b[0m\n\u001b[1;32m      2\u001b[0m     \u001b[0;32mdef\u001b[0m \u001b[0m__init__\u001b[0m\u001b[0;34m(\u001b[0m\u001b[0mself\u001b[0m\u001b[0;34m)\u001b[0m\u001b[0;34m:\u001b[0m\u001b[0;34m\u001b[0m\u001b[0m\n\u001b[0;32m----> 3\u001b[0;31m         \u001b[0msuper\u001b[0m\u001b[0;34m(\u001b[0m\u001b[0mself\u001b[0m\u001b[0;34m,\u001b[0m \u001b[0;34m'Daniel'\u001b[0m\u001b[0;34m,\u001b[0m \u001b[0;34m'Chen'\u001b[0m\u001b[0;34m,\u001b[0m \u001b[0;36m28\u001b[0m\u001b[0;34m)\u001b[0m\u001b[0;34m\u001b[0m\u001b[0m\n\u001b[0m",
      "\u001b[0;31mTypeError\u001b[0m: super() takes at most 2 arguments (4 given)"
     ]
    }
   ],
   "source": [
    "d = Daniel()"
   ]
  },
  {
   "cell_type": "code",
   "execution_count": null,
   "metadata": {
    "collapsed": true
   },
   "outputs": [],
   "source": []
  }
 ],
 "metadata": {
  "kernelspec": {
   "display_name": "Python 3",
   "language": "python",
   "name": "python3"
  },
  "language_info": {
   "codemirror_mode": {
    "name": "ipython",
    "version": 3
   },
   "file_extension": ".py",
   "mimetype": "text/x-python",
   "name": "python",
   "nbconvert_exporter": "python",
   "pygments_lexer": "ipython3",
   "version": "3.6.2"
  },
  "toc": {
   "colors": {
    "hover_highlight": "#DAA520",
    "navigate_num": "#000000",
    "navigate_text": "#333333",
    "running_highlight": "#FF0000",
    "selected_highlight": "#FFD700",
    "sidebar_border": "#EEEEEE",
    "wrapper_background": "#FFFFFF"
   },
   "moveMenuLeft": true,
   "nav_menu": {
    "height": "12px",
    "width": "252px"
   },
   "navigate_menu": true,
   "number_sections": true,
   "sideBar": true,
   "threshold": 4,
   "toc_cell": true,
   "toc_section_display": "block",
   "toc_window_display": false,
   "widenNotebook": false
  }
 },
 "nbformat": 4,
 "nbformat_minor": 2
}
