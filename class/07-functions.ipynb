{
 "cells": [
  {
   "cell_type": "markdown",
   "metadata": {
    "toc": "true"
   },
   "source": [
    "# Table of Contents\n",
    " <p>"
   ]
  },
  {
   "cell_type": "code",
   "execution_count": 4,
   "metadata": {
    "ExecuteTime": {
     "end_time": "2017-10-26T19:56:04.251834Z",
     "start_time": "2017-10-26T19:56:04.241627Z"
    }
   },
   "outputs": [
    {
     "name": "stdout",
     "output_type": "stream",
     "text": [
      "not in function\n"
     ]
    }
   ],
   "source": [
    "def my_function():\n",
    "    print('in function')\n",
    "print('not in function')"
   ]
  },
  {
   "cell_type": "code",
   "execution_count": 5,
   "metadata": {
    "ExecuteTime": {
     "end_time": "2017-10-26T19:56:16.107096Z",
     "start_time": "2017-10-26T19:56:16.102776Z"
    }
   },
   "outputs": [
    {
     "name": "stdout",
     "output_type": "stream",
     "text": [
      "in function\n"
     ]
    }
   ],
   "source": [
    "my_function()"
   ]
  },
  {
   "cell_type": "code",
   "execution_count": 13,
   "metadata": {
    "ExecuteTime": {
     "end_time": "2017-10-26T20:01:13.210193Z",
     "start_time": "2017-10-26T20:01:13.205825Z"
    }
   },
   "outputs": [],
   "source": [
    "def f2k(temp):\n",
    "    convert = ((temp - 32) * (5 / 9)) + 273.15\n",
    "    return convert"
   ]
  },
  {
   "cell_type": "code",
   "execution_count": 20,
   "metadata": {
    "ExecuteTime": {
     "end_time": "2017-10-26T20:04:37.314673Z",
     "start_time": "2017-10-26T20:04:37.308216Z"
    }
   },
   "outputs": [
    {
     "data": {
      "text/plain": [
       "1"
      ]
     },
     "execution_count": 20,
     "metadata": {},
     "output_type": "execute_result"
    }
   ],
   "source": [
    "9 // 5"
   ]
  },
  {
   "cell_type": "code",
   "execution_count": 18,
   "metadata": {
    "ExecuteTime": {
     "end_time": "2017-10-26T20:03:09.645369Z",
     "start_time": "2017-10-26T20:03:09.640339Z"
    }
   },
   "outputs": [
    {
     "data": {
      "text/plain": [
       "273.15"
      ]
     },
     "execution_count": 18,
     "metadata": {},
     "output_type": "execute_result"
    }
   ],
   "source": [
    "f2k(32)"
   ]
  },
  {
   "cell_type": "code",
   "execution_count": 42,
   "metadata": {
    "ExecuteTime": {
     "end_time": "2017-10-26T20:07:19.887214Z",
     "start_time": "2017-10-26T20:07:19.882823Z"
    },
    "collapsed": true
   },
   "outputs": [],
   "source": [
    "def f2k(temp=32):\n",
    "    convert = ((temp - 32) * (5/9)) + 273.15\n",
    "    return convert"
   ]
  },
  {
   "cell_type": "code",
   "execution_count": 43,
   "metadata": {
    "ExecuteTime": {
     "end_time": "2017-10-26T20:07:20.047061Z",
     "start_time": "2017-10-26T20:07:20.042004Z"
    }
   },
   "outputs": [
    {
     "data": {
      "text/plain": [
       "-11.11111111111111"
      ]
     },
     "execution_count": 43,
     "metadata": {},
     "output_type": "execute_result"
    }
   ],
   "source": [
    "f2k(12)"
   ]
  },
  {
   "cell_type": "code",
   "execution_count": 44,
   "metadata": {
    "ExecuteTime": {
     "end_time": "2017-10-26T20:07:20.194448Z",
     "start_time": "2017-10-26T20:07:20.185555Z"
    }
   },
   "outputs": [
    {
     "data": {
      "text/plain": [
       "0.0"
      ]
     },
     "execution_count": 44,
     "metadata": {},
     "output_type": "execute_result"
    }
   ],
   "source": [
    "f2k(32)"
   ]
  },
  {
   "cell_type": "code",
   "execution_count": 45,
   "metadata": {
    "ExecuteTime": {
     "end_time": "2017-10-26T20:07:20.354899Z",
     "start_time": "2017-10-26T20:07:20.337316Z"
    }
   },
   "outputs": [
    {
     "ename": "AssertionError",
     "evalue": "",
     "output_type": "error",
     "traceback": [
      "\u001b[0;31m--------------------------------------------------------------------\u001b[0m",
      "\u001b[0;31mAssertionError\u001b[0m                     Traceback (most recent call last)",
      "\u001b[0;32m<ipython-input-45-47d282f3b049>\u001b[0m in \u001b[0;36m<module>\u001b[0;34m()\u001b[0m\n\u001b[0;32m----> 1\u001b[0;31m \u001b[0;32massert\u001b[0m \u001b[0mf2k\u001b[0m\u001b[0;34m(\u001b[0m\u001b[0;36m32\u001b[0m\u001b[0;34m)\u001b[0m \u001b[0;34m==\u001b[0m \u001b[0;36m273.15\u001b[0m\u001b[0;34m\u001b[0m\u001b[0m\n\u001b[0m",
      "\u001b[0;31mAssertionError\u001b[0m: "
     ]
    }
   ],
   "source": [
    "assert f2k(32) == 273.15"
   ]
  },
  {
   "cell_type": "code",
   "execution_count": 56,
   "metadata": {
    "ExecuteTime": {
     "end_time": "2017-10-26T20:18:03.279340Z",
     "start_time": "2017-10-26T20:18:03.274333Z"
    }
   },
   "outputs": [],
   "source": [
    "def k2c(temp):\n",
    "    return temp - 273.15"
   ]
  },
  {
   "cell_type": "code",
   "execution_count": 50,
   "metadata": {
    "ExecuteTime": {
     "end_time": "2017-10-26T20:09:56.212009Z",
     "start_time": "2017-10-26T20:09:56.203887Z"
    },
    "collapsed": true
   },
   "outputs": [],
   "source": [
    "def f2c(temp):\n",
    "    tk = f2k(temp)\n",
    "    c = k2c(tk)\n",
    "    return(c)"
   ]
  },
  {
   "cell_type": "code",
   "execution_count": 51,
   "metadata": {
    "ExecuteTime": {
     "end_time": "2017-10-26T20:10:07.206889Z",
     "start_time": "2017-10-26T20:10:07.200471Z"
    },
    "collapsed": true
   },
   "outputs": [],
   "source": [
    "def f2k(temp=32):\n",
    "    convert = ((temp - 32) * (5/9)) + 273.15\n",
    "    return convert"
   ]
  }
 ],
 "metadata": {
  "kernelspec": {
   "display_name": "Python (root)",
   "language": "python",
   "name": "other-env"
  },
  "language_info": {
   "codemirror_mode": {
    "name": "ipython",
    "version": 3
   },
   "file_extension": ".py",
   "mimetype": "text/x-python",
   "name": "python",
   "nbconvert_exporter": "python",
   "pygments_lexer": "ipython3",
   "version": "3.6.2"
  },
  "toc": {
   "colors": {
    "hover_highlight": "#DAA520",
    "navigate_num": "#000000",
    "navigate_text": "#333333",
    "running_highlight": "#FF0000",
    "selected_highlight": "#FFD700",
    "sidebar_border": "#EEEEEE",
    "wrapper_background": "#FFFFFF"
   },
   "moveMenuLeft": true,
   "nav_menu": {
    "height": "12px",
    "width": "252px"
   },
   "navigate_menu": true,
   "number_sections": true,
   "sideBar": true,
   "threshold": 4,
   "toc_cell": true,
   "toc_position": {
    "height": "282px",
    "left": "0px",
    "right": "739.6px",
    "top": "102px",
    "width": "22px"
   },
   "toc_section_display": "block",
   "toc_window_display": true,
   "widenNotebook": false
  }
 },
 "nbformat": 4,
 "nbformat_minor": 2
}
